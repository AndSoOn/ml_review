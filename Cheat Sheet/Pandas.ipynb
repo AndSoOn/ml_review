{
 "cells": [
  {
   "cell_type": "code",
   "execution_count": 1,
   "metadata": {
    "collapsed": true
   },
   "outputs": [],
   "source": [
    "import numpy as np\n",
    "import pandas as pd"
   ]
  },
  {
   "cell_type": "code",
   "execution_count": 2,
   "metadata": {
    "collapsed": false
   },
   "outputs": [
    {
     "data": {
      "text/html": [
       "<div>\n",
       "<table border=\"1\" class=\"dataframe\">\n",
       "  <thead>\n",
       "    <tr style=\"text-align: right;\">\n",
       "      <th></th>\n",
       "      <th>A</th>\n",
       "      <th>B</th>\n",
       "      <th>C</th>\n",
       "      <th>D</th>\n",
       "    </tr>\n",
       "  </thead>\n",
       "  <tbody>\n",
       "    <tr>\n",
       "      <th>0</th>\n",
       "      <td>0.269491</td>\n",
       "      <td>0.419592</td>\n",
       "      <td>0.347843</td>\n",
       "      <td>0.008099</td>\n",
       "    </tr>\n",
       "    <tr>\n",
       "      <th>1</th>\n",
       "      <td>0.022233</td>\n",
       "      <td>0.109649</td>\n",
       "      <td>0.922173</td>\n",
       "      <td>0.978725</td>\n",
       "    </tr>\n",
       "    <tr>\n",
       "      <th>2</th>\n",
       "      <td>0.088555</td>\n",
       "      <td>0.837524</td>\n",
       "      <td>0.353767</td>\n",
       "      <td>0.604727</td>\n",
       "    </tr>\n",
       "    <tr>\n",
       "      <th>3</th>\n",
       "      <td>0.468197</td>\n",
       "      <td>0.209028</td>\n",
       "      <td>0.326888</td>\n",
       "      <td>0.911569</td>\n",
       "    </tr>\n",
       "    <tr>\n",
       "      <th>4</th>\n",
       "      <td>0.537414</td>\n",
       "      <td>0.442185</td>\n",
       "      <td>0.785018</td>\n",
       "      <td>0.777877</td>\n",
       "    </tr>\n",
       "    <tr>\n",
       "      <th>5</th>\n",
       "      <td>0.096484</td>\n",
       "      <td>0.543530</td>\n",
       "      <td>0.712655</td>\n",
       "      <td>0.001971</td>\n",
       "    </tr>\n",
       "  </tbody>\n",
       "</table>\n",
       "</div>"
      ],
      "text/plain": [
       "          A         B         C         D\n",
       "0  0.269491  0.419592  0.347843  0.008099\n",
       "1  0.022233  0.109649  0.922173  0.978725\n",
       "2  0.088555  0.837524  0.353767  0.604727\n",
       "3  0.468197  0.209028  0.326888  0.911569\n",
       "4  0.537414  0.442185  0.785018  0.777877\n",
       "5  0.096484  0.543530  0.712655  0.001971"
      ]
     },
     "execution_count": 2,
     "metadata": {},
     "output_type": "execute_result"
    }
   ],
   "source": [
    "data2 = pd.DataFrame(np.random.rand(6, 4), columns=list('ABCD'))\n",
    "data2"
   ]
  },
  {
   "cell_type": "code",
   "execution_count": 5,
   "metadata": {
    "collapsed": false
   },
   "outputs": [
    {
     "data": {
      "text/html": [
       "<div>\n",
       "<table border=\"1\" class=\"dataframe\">\n",
       "  <thead>\n",
       "    <tr style=\"text-align: right;\">\n",
       "      <th></th>\n",
       "      <th>A</th>\n",
       "      <th>B</th>\n",
       "      <th>C</th>\n",
       "      <th>D</th>\n",
       "    </tr>\n",
       "  </thead>\n",
       "  <tbody>\n",
       "    <tr>\n",
       "      <th>2017-03-01</th>\n",
       "      <td>0.269491</td>\n",
       "      <td>0.419592</td>\n",
       "      <td>0.347843</td>\n",
       "      <td>0.008099</td>\n",
       "    </tr>\n",
       "    <tr>\n",
       "      <th>2017-03-02</th>\n",
       "      <td>0.022233</td>\n",
       "      <td>0.109649</td>\n",
       "      <td>0.922173</td>\n",
       "      <td>0.978725</td>\n",
       "    </tr>\n",
       "    <tr>\n",
       "      <th>2017-03-03</th>\n",
       "      <td>0.088555</td>\n",
       "      <td>0.837524</td>\n",
       "      <td>0.353767</td>\n",
       "      <td>0.604727</td>\n",
       "    </tr>\n",
       "    <tr>\n",
       "      <th>2017-03-04</th>\n",
       "      <td>0.468197</td>\n",
       "      <td>0.209028</td>\n",
       "      <td>0.326888</td>\n",
       "      <td>0.911569</td>\n",
       "    </tr>\n",
       "    <tr>\n",
       "      <th>2017-03-05</th>\n",
       "      <td>0.537414</td>\n",
       "      <td>0.442185</td>\n",
       "      <td>0.785018</td>\n",
       "      <td>0.777877</td>\n",
       "    </tr>\n",
       "    <tr>\n",
       "      <th>2017-03-06</th>\n",
       "      <td>0.096484</td>\n",
       "      <td>0.543530</td>\n",
       "      <td>0.712655</td>\n",
       "      <td>0.001971</td>\n",
       "    </tr>\n",
       "  </tbody>\n",
       "</table>\n",
       "</div>"
      ],
      "text/plain": [
       "                   A         B         C         D\n",
       "2017-03-01  0.269491  0.419592  0.347843  0.008099\n",
       "2017-03-02  0.022233  0.109649  0.922173  0.978725\n",
       "2017-03-03  0.088555  0.837524  0.353767  0.604727\n",
       "2017-03-04  0.468197  0.209028  0.326888  0.911569\n",
       "2017-03-05  0.537414  0.442185  0.785018  0.777877\n",
       "2017-03-06  0.096484  0.543530  0.712655  0.001971"
      ]
     },
     "execution_count": 5,
     "metadata": {},
     "output_type": "execute_result"
    }
   ],
   "source": [
    "dates = pd.date_range('20170301', periods=6)\n",
    "data2.index = dates\n",
    "data2"
   ]
  },
  {
   "cell_type": "code",
   "execution_count": null,
   "metadata": {
    "collapsed": true
   },
   "outputs": [],
   "source": []
  }
 ],
 "metadata": {
  "anaconda-cloud": {},
  "kernelspec": {
   "display_name": "Python [conda root]",
   "language": "python",
   "name": "conda-root-py"
  },
  "language_info": {
   "codemirror_mode": {
    "name": "ipython",
    "version": 2
   },
   "file_extension": ".py",
   "mimetype": "text/x-python",
   "name": "python",
   "nbconvert_exporter": "python",
   "pygments_lexer": "ipython2",
   "version": "2.7.12"
  }
 },
 "nbformat": 4,
 "nbformat_minor": 1
}
