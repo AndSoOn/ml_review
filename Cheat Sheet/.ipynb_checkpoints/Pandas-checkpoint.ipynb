{
 "cells": [
  {
   "cell_type": "code",
   "execution_count": 1,
   "metadata": {
    "collapsed": true
   },
   "outputs": [],
   "source": [
    "import numpy as np\n",
    "import pandas as pd"
   ]
  },
  {
   "cell_type": "code",
   "execution_count": 13,
   "metadata": {
    "collapsed": false
   },
   "outputs": [
    {
     "data": {
      "text/html": [
       "<div>\n",
       "<table border=\"1\" class=\"dataframe\">\n",
       "  <thead>\n",
       "    <tr style=\"text-align: right;\">\n",
       "      <th></th>\n",
       "      <th>A</th>\n",
       "      <th>B</th>\n",
       "      <th>C</th>\n",
       "      <th>D</th>\n",
       "    </tr>\n",
       "  </thead>\n",
       "  <tbody>\n",
       "    <tr>\n",
       "      <th>0</th>\n",
       "      <td>0.627850</td>\n",
       "      <td>0.986475</td>\n",
       "      <td>0.758975</td>\n",
       "      <td>0.399208</td>\n",
       "    </tr>\n",
       "    <tr>\n",
       "      <th>1</th>\n",
       "      <td>0.655015</td>\n",
       "      <td>0.620455</td>\n",
       "      <td>0.969185</td>\n",
       "      <td>0.032055</td>\n",
       "    </tr>\n",
       "    <tr>\n",
       "      <th>2</th>\n",
       "      <td>0.603497</td>\n",
       "      <td>0.801268</td>\n",
       "      <td>0.815999</td>\n",
       "      <td>0.440737</td>\n",
       "    </tr>\n",
       "    <tr>\n",
       "      <th>3</th>\n",
       "      <td>0.788871</td>\n",
       "      <td>0.956759</td>\n",
       "      <td>0.271561</td>\n",
       "      <td>0.487631</td>\n",
       "    </tr>\n",
       "    <tr>\n",
       "      <th>4</th>\n",
       "      <td>0.042110</td>\n",
       "      <td>0.248763</td>\n",
       "      <td>0.261856</td>\n",
       "      <td>0.371772</td>\n",
       "    </tr>\n",
       "    <tr>\n",
       "      <th>5</th>\n",
       "      <td>0.234784</td>\n",
       "      <td>0.901550</td>\n",
       "      <td>0.818261</td>\n",
       "      <td>0.374634</td>\n",
       "    </tr>\n",
       "  </tbody>\n",
       "</table>\n",
       "</div>"
      ],
      "text/plain": [
       "          A         B         C         D\n",
       "0  0.627850  0.986475  0.758975  0.399208\n",
       "1  0.655015  0.620455  0.969185  0.032055\n",
       "2  0.603497  0.801268  0.815999  0.440737\n",
       "3  0.788871  0.956759  0.271561  0.487631\n",
       "4  0.042110  0.248763  0.261856  0.371772\n",
       "5  0.234784  0.901550  0.818261  0.374634"
      ]
     },
     "execution_count": 13,
     "metadata": {},
     "output_type": "execute_result"
    }
   ],
   "source": [
    "data2 = pd.DataFrame(np.random.rand(6, 4), columns=list('ABCD'))\n",
    "data2"
   ]
  },
  {
   "cell_type": "code",
   "execution_count": 14,
   "metadata": {
    "collapsed": false
   },
   "outputs": [
    {
     "data": {
      "text/html": [
       "<div>\n",
       "<table border=\"1\" class=\"dataframe\">\n",
       "  <thead>\n",
       "    <tr style=\"text-align: right;\">\n",
       "      <th></th>\n",
       "      <th>A</th>\n",
       "      <th>B</th>\n",
       "      <th>C</th>\n",
       "      <th>D</th>\n",
       "    </tr>\n",
       "  </thead>\n",
       "  <tbody>\n",
       "    <tr>\n",
       "      <th>2017-03-01</th>\n",
       "      <td>0.627850</td>\n",
       "      <td>0.986475</td>\n",
       "      <td>0.758975</td>\n",
       "      <td>0.399208</td>\n",
       "    </tr>\n",
       "    <tr>\n",
       "      <th>2017-03-02</th>\n",
       "      <td>0.655015</td>\n",
       "      <td>0.620455</td>\n",
       "      <td>0.969185</td>\n",
       "      <td>0.032055</td>\n",
       "    </tr>\n",
       "    <tr>\n",
       "      <th>2017-03-03</th>\n",
       "      <td>0.603497</td>\n",
       "      <td>0.801268</td>\n",
       "      <td>0.815999</td>\n",
       "      <td>0.440737</td>\n",
       "    </tr>\n",
       "    <tr>\n",
       "      <th>2017-03-04</th>\n",
       "      <td>0.788871</td>\n",
       "      <td>0.956759</td>\n",
       "      <td>0.271561</td>\n",
       "      <td>0.487631</td>\n",
       "    </tr>\n",
       "    <tr>\n",
       "      <th>2017-03-05</th>\n",
       "      <td>0.042110</td>\n",
       "      <td>0.248763</td>\n",
       "      <td>0.261856</td>\n",
       "      <td>0.371772</td>\n",
       "    </tr>\n",
       "    <tr>\n",
       "      <th>2017-03-06</th>\n",
       "      <td>0.234784</td>\n",
       "      <td>0.901550</td>\n",
       "      <td>0.818261</td>\n",
       "      <td>0.374634</td>\n",
       "    </tr>\n",
       "  </tbody>\n",
       "</table>\n",
       "</div>"
      ],
      "text/plain": [
       "                   A         B         C         D\n",
       "2017-03-01  0.627850  0.986475  0.758975  0.399208\n",
       "2017-03-02  0.655015  0.620455  0.969185  0.032055\n",
       "2017-03-03  0.603497  0.801268  0.815999  0.440737\n",
       "2017-03-04  0.788871  0.956759  0.271561  0.487631\n",
       "2017-03-05  0.042110  0.248763  0.261856  0.371772\n",
       "2017-03-06  0.234784  0.901550  0.818261  0.374634"
      ]
     },
     "execution_count": 14,
     "metadata": {},
     "output_type": "execute_result"
    }
   ],
   "source": [
    "dates = pd.date_range('20170301', periods=6)\n",
    "data2.index = dates\n",
    "data2"
   ]
  },
  {
   "cell_type": "code",
   "execution_count": 15,
   "metadata": {
    "collapsed": false
   },
   "outputs": [
    {
     "data": {
      "text/html": [
       "<div>\n",
       "<table border=\"1\" class=\"dataframe\">\n",
       "  <thead>\n",
       "    <tr style=\"text-align: right;\">\n",
       "      <th></th>\n",
       "      <th>A</th>\n",
       "      <th>B</th>\n",
       "      <th>C</th>\n",
       "      <th>D</th>\n",
       "    </tr>\n",
       "  </thead>\n",
       "  <tbody>\n",
       "    <tr>\n",
       "      <th>2017-03-04</th>\n",
       "      <td>0.788871</td>\n",
       "      <td>0.956759</td>\n",
       "      <td>0.271561</td>\n",
       "      <td>0.487631</td>\n",
       "    </tr>\n",
       "    <tr>\n",
       "      <th>2017-03-03</th>\n",
       "      <td>0.603497</td>\n",
       "      <td>0.801268</td>\n",
       "      <td>0.815999</td>\n",
       "      <td>0.440737</td>\n",
       "    </tr>\n",
       "    <tr>\n",
       "      <th>2017-03-01</th>\n",
       "      <td>0.627850</td>\n",
       "      <td>0.986475</td>\n",
       "      <td>0.758975</td>\n",
       "      <td>0.399208</td>\n",
       "    </tr>\n",
       "    <tr>\n",
       "      <th>2017-03-06</th>\n",
       "      <td>0.234784</td>\n",
       "      <td>0.901550</td>\n",
       "      <td>0.818261</td>\n",
       "      <td>0.374634</td>\n",
       "    </tr>\n",
       "    <tr>\n",
       "      <th>2017-03-05</th>\n",
       "      <td>0.042110</td>\n",
       "      <td>0.248763</td>\n",
       "      <td>0.261856</td>\n",
       "      <td>0.371772</td>\n",
       "    </tr>\n",
       "    <tr>\n",
       "      <th>2017-03-02</th>\n",
       "      <td>0.655015</td>\n",
       "      <td>0.620455</td>\n",
       "      <td>0.969185</td>\n",
       "      <td>0.032055</td>\n",
       "    </tr>\n",
       "  </tbody>\n",
       "</table>\n",
       "</div>"
      ],
      "text/plain": [
       "                   A         B         C         D\n",
       "2017-03-04  0.788871  0.956759  0.271561  0.487631\n",
       "2017-03-03  0.603497  0.801268  0.815999  0.440737\n",
       "2017-03-01  0.627850  0.986475  0.758975  0.399208\n",
       "2017-03-06  0.234784  0.901550  0.818261  0.374634\n",
       "2017-03-05  0.042110  0.248763  0.261856  0.371772\n",
       "2017-03-02  0.655015  0.620455  0.969185  0.032055"
      ]
     },
     "execution_count": 15,
     "metadata": {},
     "output_type": "execute_result"
    }
   ],
   "source": [
    "data2.sort_values(by='D', ascending=False)"
   ]
  },
  {
   "cell_type": "code",
   "execution_count": 16,
   "metadata": {
    "collapsed": false
   },
   "outputs": [
    {
     "data": {
      "text/plain": [
       "0.48763126906913057"
      ]
     },
     "execution_count": 16,
     "metadata": {},
     "output_type": "execute_result"
    }
   ],
   "source": [
    "data2.iat[3,3]"
   ]
  },
  {
   "cell_type": "code",
   "execution_count": 17,
   "metadata": {
    "collapsed": false
   },
   "outputs": [
    {
     "data": {
      "text/html": [
       "<div>\n",
       "<table border=\"1\" class=\"dataframe\">\n",
       "  <thead>\n",
       "    <tr style=\"text-align: right;\">\n",
       "      <th></th>\n",
       "      <th>A</th>\n",
       "      <th>C</th>\n",
       "    </tr>\n",
       "  </thead>\n",
       "  <tbody>\n",
       "    <tr>\n",
       "      <th>2017-03-01</th>\n",
       "      <td>0.627850</td>\n",
       "      <td>0.758975</td>\n",
       "    </tr>\n",
       "    <tr>\n",
       "      <th>2017-03-02</th>\n",
       "      <td>0.655015</td>\n",
       "      <td>0.969185</td>\n",
       "    </tr>\n",
       "    <tr>\n",
       "      <th>2017-03-03</th>\n",
       "      <td>0.603497</td>\n",
       "      <td>0.815999</td>\n",
       "    </tr>\n",
       "    <tr>\n",
       "      <th>2017-03-04</th>\n",
       "      <td>0.788871</td>\n",
       "      <td>0.271561</td>\n",
       "    </tr>\n",
       "    <tr>\n",
       "      <th>2017-03-05</th>\n",
       "      <td>0.042110</td>\n",
       "      <td>0.261856</td>\n",
       "    </tr>\n",
       "    <tr>\n",
       "      <th>2017-03-06</th>\n",
       "      <td>0.234784</td>\n",
       "      <td>0.818261</td>\n",
       "    </tr>\n",
       "  </tbody>\n",
       "</table>\n",
       "</div>"
      ],
      "text/plain": [
       "                   A         C\n",
       "2017-03-01  0.627850  0.758975\n",
       "2017-03-02  0.655015  0.969185\n",
       "2017-03-03  0.603497  0.815999\n",
       "2017-03-04  0.788871  0.271561\n",
       "2017-03-05  0.042110  0.261856\n",
       "2017-03-06  0.234784  0.818261"
      ]
     },
     "execution_count": 17,
     "metadata": {},
     "output_type": "execute_result"
    }
   ],
   "source": [
    "data2[['A', 'C']][(data2.B>0)&(data2.D>0)]"
   ]
  },
  {
   "cell_type": "code",
   "execution_count": 18,
   "metadata": {
    "collapsed": false
   },
   "outputs": [
    {
     "data": {
      "text/plain": [
       "2017-03-01    False\n",
       "2017-03-02    False\n",
       "2017-03-03    False\n",
       "2017-03-04    False\n",
       "2017-03-05    False\n",
       "2017-03-06    False\n",
       "Freq: D, Name: D, dtype: bool"
      ]
     },
     "execution_count": 18,
     "metadata": {},
     "output_type": "execute_result"
    }
   ],
   "source": [
    "goal_list = [0.1, 0.2, 0.3]\n",
    "data2.D.isin(goal_list)"
   ]
  },
  {
   "cell_type": "code",
   "execution_count": 19,
   "metadata": {
    "collapsed": false
   },
   "outputs": [
    {
     "data": {
      "text/html": [
       "<div>\n",
       "<table border=\"1\" class=\"dataframe\">\n",
       "  <thead>\n",
       "    <tr style=\"text-align: right;\">\n",
       "      <th></th>\n",
       "      <th>A</th>\n",
       "      <th>a</th>\n",
       "      <th>B</th>\n",
       "      <th>C</th>\n",
       "      <th>D</th>\n",
       "    </tr>\n",
       "  </thead>\n",
       "  <tbody>\n",
       "    <tr>\n",
       "      <th>2017-03-01</th>\n",
       "      <td>0.627850</td>\n",
       "      <td>-1.364124</td>\n",
       "      <td>0.986475</td>\n",
       "      <td>0.758975</td>\n",
       "      <td>0.399208</td>\n",
       "    </tr>\n",
       "    <tr>\n",
       "      <th>2017-03-02</th>\n",
       "      <td>0.655015</td>\n",
       "      <td>-1.132142</td>\n",
       "      <td>0.620455</td>\n",
       "      <td>0.969185</td>\n",
       "      <td>0.032055</td>\n",
       "    </tr>\n",
       "    <tr>\n",
       "      <th>2017-03-03</th>\n",
       "      <td>0.603497</td>\n",
       "      <td>-0.809313</td>\n",
       "      <td>0.801268</td>\n",
       "      <td>0.815999</td>\n",
       "      <td>0.440737</td>\n",
       "    </tr>\n",
       "    <tr>\n",
       "      <th>2017-03-04</th>\n",
       "      <td>0.788871</td>\n",
       "      <td>0.226828</td>\n",
       "      <td>0.956759</td>\n",
       "      <td>0.271561</td>\n",
       "      <td>0.487631</td>\n",
       "    </tr>\n",
       "    <tr>\n",
       "      <th>2017-03-05</th>\n",
       "      <td>0.042110</td>\n",
       "      <td>0.605538</td>\n",
       "      <td>0.248763</td>\n",
       "      <td>0.261856</td>\n",
       "      <td>0.371772</td>\n",
       "    </tr>\n",
       "    <tr>\n",
       "      <th>2017-03-06</th>\n",
       "      <td>0.234784</td>\n",
       "      <td>-0.941181</td>\n",
       "      <td>0.901550</td>\n",
       "      <td>0.818261</td>\n",
       "      <td>0.374634</td>\n",
       "    </tr>\n",
       "  </tbody>\n",
       "</table>\n",
       "</div>"
      ],
      "text/plain": [
       "                   A         a         B         C         D\n",
       "2017-03-01  0.627850 -1.364124  0.986475  0.758975  0.399208\n",
       "2017-03-02  0.655015 -1.132142  0.620455  0.969185  0.032055\n",
       "2017-03-03  0.603497 -0.809313  0.801268  0.815999  0.440737\n",
       "2017-03-04  0.788871  0.226828  0.956759  0.271561  0.487631\n",
       "2017-03-05  0.042110  0.605538  0.248763  0.261856  0.371772\n",
       "2017-03-06  0.234784 -0.941181  0.901550  0.818261  0.374634"
      ]
     },
     "execution_count": 19,
     "metadata": {},
     "output_type": "execute_result"
    }
   ],
   "source": [
    "data2.insert(1, 'a', np.random.randn(6))\n",
    "data2"
   ]
  },
  {
   "cell_type": "code",
   "execution_count": 21,
   "metadata": {
    "collapsed": false
   },
   "outputs": [
    {
     "data": {
      "text/html": [
       "<div>\n",
       "<table border=\"1\" class=\"dataframe\">\n",
       "  <thead>\n",
       "    <tr style=\"text-align: right;\">\n",
       "      <th></th>\n",
       "      <th>A</th>\n",
       "      <th>B</th>\n",
       "      <th>C</th>\n",
       "      <th>D</th>\n",
       "    </tr>\n",
       "  </thead>\n",
       "  <tbody>\n",
       "    <tr>\n",
       "      <th>2017-03-01</th>\n",
       "      <td>0.627850</td>\n",
       "      <td>0.986475</td>\n",
       "      <td>0.758975</td>\n",
       "      <td>0.399208</td>\n",
       "    </tr>\n",
       "    <tr>\n",
       "      <th>2017-03-02</th>\n",
       "      <td>0.655015</td>\n",
       "      <td>0.620455</td>\n",
       "      <td>0.969185</td>\n",
       "      <td>0.032055</td>\n",
       "    </tr>\n",
       "    <tr>\n",
       "      <th>2017-03-03</th>\n",
       "      <td>0.603497</td>\n",
       "      <td>0.801268</td>\n",
       "      <td>0.815999</td>\n",
       "      <td>0.440737</td>\n",
       "    </tr>\n",
       "    <tr>\n",
       "      <th>2017-03-04</th>\n",
       "      <td>0.788871</td>\n",
       "      <td>0.956759</td>\n",
       "      <td>0.271561</td>\n",
       "      <td>0.487631</td>\n",
       "    </tr>\n",
       "    <tr>\n",
       "      <th>2017-03-05</th>\n",
       "      <td>0.042110</td>\n",
       "      <td>0.248763</td>\n",
       "      <td>0.261856</td>\n",
       "      <td>0.371772</td>\n",
       "    </tr>\n",
       "    <tr>\n",
       "      <th>2017-03-06</th>\n",
       "      <td>0.234784</td>\n",
       "      <td>0.901550</td>\n",
       "      <td>0.818261</td>\n",
       "      <td>0.374634</td>\n",
       "    </tr>\n",
       "  </tbody>\n",
       "</table>\n",
       "</div>"
      ],
      "text/plain": [
       "                   A         B         C         D\n",
       "2017-03-01  0.627850  0.986475  0.758975  0.399208\n",
       "2017-03-02  0.655015  0.620455  0.969185  0.032055\n",
       "2017-03-03  0.603497  0.801268  0.815999  0.440737\n",
       "2017-03-04  0.788871  0.956759  0.271561  0.487631\n",
       "2017-03-05  0.042110  0.248763  0.261856  0.371772\n",
       "2017-03-06  0.234784  0.901550  0.818261  0.374634"
      ]
     },
     "execution_count": 21,
     "metadata": {},
     "output_type": "execute_result"
    }
   ],
   "source": [
    "df = data2.drop(['a'], axis=1)\n",
    "df"
   ]
  },
  {
   "cell_type": "code",
   "execution_count": 23,
   "metadata": {
    "collapsed": false
   },
   "outputs": [
    {
     "data": {
      "text/html": [
       "<div>\n",
       "<table border=\"1\" class=\"dataframe\">\n",
       "  <thead>\n",
       "    <tr style=\"text-align: right;\">\n",
       "      <th></th>\n",
       "      <th>A</th>\n",
       "      <th>B</th>\n",
       "      <th>C</th>\n",
       "      <th>D</th>\n",
       "    </tr>\n",
       "  </thead>\n",
       "  <tbody>\n",
       "    <tr>\n",
       "      <th>2017-03-01</th>\n",
       "      <td>0.627850</td>\n",
       "      <td>0.986475</td>\n",
       "      <td>0.758975</td>\n",
       "      <td>0.399208</td>\n",
       "    </tr>\n",
       "    <tr>\n",
       "      <th>2017-03-02</th>\n",
       "      <td>0.655015</td>\n",
       "      <td>0.620455</td>\n",
       "      <td>0.969185</td>\n",
       "      <td>0.032055</td>\n",
       "    </tr>\n",
       "    <tr>\n",
       "      <th>2017-03-03</th>\n",
       "      <td>0.603497</td>\n",
       "      <td>0.801268</td>\n",
       "      <td>0.815999</td>\n",
       "      <td>0.440737</td>\n",
       "    </tr>\n",
       "    <tr>\n",
       "      <th>2017-03-04</th>\n",
       "      <td>0.788871</td>\n",
       "      <td>0.956759</td>\n",
       "      <td>0.271561</td>\n",
       "      <td>0.487631</td>\n",
       "    </tr>\n",
       "  </tbody>\n",
       "</table>\n",
       "</div>"
      ],
      "text/plain": [
       "                   A         B         C         D\n",
       "2017-03-01  0.627850  0.986475  0.758975  0.399208\n",
       "2017-03-02  0.655015  0.620455  0.969185  0.032055\n",
       "2017-03-03  0.603497  0.801268  0.815999  0.440737\n",
       "2017-03-04  0.788871  0.956759  0.271561  0.487631"
      ]
     },
     "execution_count": 23,
     "metadata": {},
     "output_type": "execute_result"
    }
   ],
   "source": [
    "df2 = df[df['A'] > 0.5]\n",
    "df2"
   ]
  },
  {
   "cell_type": "code",
   "execution_count": 24,
   "metadata": {
    "collapsed": false
   },
   "outputs": [
    {
     "data": {
      "text/plain": [
       "0.603497    1\n",
       "0.655015    1\n",
       "0.788871    1\n",
       "0.627850    1\n",
       "Name: A, dtype: int64"
      ]
     },
     "execution_count": 24,
     "metadata": {},
     "output_type": "execute_result"
    }
   ],
   "source": [
    "df2.A.value_counts()"
   ]
  },
  {
   "cell_type": "code",
   "execution_count": 25,
   "metadata": {
    "collapsed": false
   },
   "outputs": [
    {
     "data": {
      "text/plain": [
       "2.6752333447389445"
      ]
     },
     "execution_count": 25,
     "metadata": {},
     "output_type": "execute_result"
    }
   ],
   "source": [
    "df2.A.sum()"
   ]
  },
  {
   "cell_type": "code",
   "execution_count": null,
   "metadata": {
    "collapsed": true
   },
   "outputs": [],
   "source": []
  }
 ],
 "metadata": {
  "anaconda-cloud": {},
  "kernelspec": {
   "display_name": "Python [conda root]",
   "language": "python",
   "name": "conda-root-py"
  },
  "language_info": {
   "codemirror_mode": {
    "name": "ipython",
    "version": 2
   },
   "file_extension": ".py",
   "mimetype": "text/x-python",
   "name": "python",
   "nbconvert_exporter": "python",
   "pygments_lexer": "ipython2",
   "version": "2.7.12"
  }
 },
 "nbformat": 4,
 "nbformat_minor": 1
}
